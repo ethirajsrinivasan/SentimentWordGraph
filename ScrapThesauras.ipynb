{
 "cells": [
  {
   "cell_type": "code",
   "execution_count": null,
   "metadata": {},
   "outputs": [],
   "source": [
    "import urllib\n",
    "from  bs4 import BeautifulSoup\n",
    "import csv"
   ]
  },
  {
   "cell_type": "code",
   "execution_count": null,
   "metadata": {},
   "outputs": [],
   "source": [
    "sentiment_words = []\n",
    "THESAURUS_URL = \"http://www.thesaurus.com/browse/\"\n",
    "\n",
    "\n",
    "def process_thesauraus(url):\n",
    "    print(url)\n",
    "    try:\n",
    "        thepage = urllib.request.urlopen(url)\n",
    "        soup = BeautifulSoup(thepage,'html.parser')\n",
    "        for anchor in soup.find_all('a',{'class':'common-word'}):\n",
    "            new_word = anchor.find('span',{'class':'text'}).text\n",
    "            if new_word not in sentiment_words:\n",
    "                sentiment_words.append(new_word)\n",
    "                process_thesauraus(THESAURUS_URL+new_word+\"/adjective\")\n",
    "    except:\n",
    "        pass\n",
    "\n",
    "process_thesauraus(THESAURUS_URL+\"happy\"+\"/adjective\")"
   ]
  },
  {
   "cell_type": "code",
   "execution_count": null,
   "metadata": {
    "scrolled": false
   },
   "outputs": [],
   "source": [
    "print(sentiment_words)"
   ]
  },
  {
   "cell_type": "code",
   "execution_count": null,
   "metadata": {},
   "outputs": [],
   "source": [
    "with open('sentiment_words.csv','w') as csvfile:\n",
    "    writer = csv.writer(csvfile,delimiter=\",\")\n",
    "    for word in sentiment_words:\n",
    "        writer.writerow([word])"
   ]
  },
  {
   "cell_type": "code",
   "execution_count": null,
   "metadata": {},
   "outputs": [],
   "source": [
    "synonyms_dic = {}\n",
    "antonyms_dic = {}\n",
    "i=0\n",
    "for word in sentiment_words:\n",
    "    try:\n",
    "        url = \"http://www.thesaurus.com/browse/\"+word+\"/adjective\"\n",
    "        i+=1\n",
    "        print(i)\n",
    "        thepage = urllib.request.urlopen(url)\n",
    "        soup = BeautifulSoup(thepage,'html.parser')\n",
    "        syn=[]\n",
    "        anchors = soup.find('div',{'class':'relevancy-list'}).find_all('a',{'class':'common-word'})\n",
    "        for anchor in anchors:\n",
    "            syn.append(anchor.find('span',{'class':'text'}).text)\n",
    "        synonyms_dic[word]= syn\n",
    "        antonyms_block = soup.find('section',{'class':'antonyms'})\n",
    "        if antonyms_block is not None:\n",
    "            anchors = antonyms_block.find_all('a',{'class':'common-word'})\n",
    "            ant=[]\n",
    "            for anchor in anchors:\n",
    "                ant.append(anchor.find('span',{'class':'text'}).text)\n",
    "                antonyms_dic[word]= ant\n",
    "    except Exception as e:\n",
    "        pass"
   ]
  },
  {
   "cell_type": "code",
   "execution_count": null,
   "metadata": {},
   "outputs": [],
   "source": [
    "with open(\"syncsvgraph.csv\",'w') as f:\n",
    "    writer = csv.writer(f,delimiter=',')\n",
    "    for key,value in synonyms_dic.items():\n",
    "        for item in value:\n",
    "            writer.writerow([key,item])"
   ]
  },
  {
   "cell_type": "code",
   "execution_count": null,
   "metadata": {},
   "outputs": [],
   "source": [
    "with open(\"antcsvgraph.csv\",'w') as f:\n",
    "    writer = csv.writer(f,delimiter=',')\n",
    "    for key,value in synonyms_dic.items():\n",
    "        for item in value:\n",
    "            writer.writerow([key,item])"
   ]
  }
 ],
 "metadata": {
  "kernelspec": {
   "display_name": "Python 3",
   "language": "python",
   "name": "python3"
  },
  "language_info": {
   "codemirror_mode": {
    "name": "ipython",
    "version": 3
   },
   "file_extension": ".py",
   "mimetype": "text/x-python",
   "name": "python",
   "nbconvert_exporter": "python",
   "pygments_lexer": "ipython3",
   "version": "3.6.1"
  }
 },
 "nbformat": 4,
 "nbformat_minor": 2
}
